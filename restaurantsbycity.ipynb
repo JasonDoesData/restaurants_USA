{
 "cells": [
  {
   "cell_type": "code",
   "execution_count": 1,
   "id": "1ed04e8c",
   "metadata": {},
   "outputs": [],
   "source": [
    "import pandas as pd\n",
    "import json"
   ]
  },
  {
   "cell_type": "code",
   "execution_count": 5,
   "id": "1240d896",
   "metadata": {},
   "outputs": [],
   "source": [
    "jsonfile = open(r'C:\\Users\\mjasb\\PycharmProjects\\webscrape\\restaurantsbycity.json')"
   ]
  },
  {
   "cell_type": "code",
   "execution_count": 6,
   "id": "534cec41",
   "metadata": {},
   "outputs": [],
   "source": [
    "restaurants_dict = json.load(jsonfile)"
   ]
  },
  {
   "cell_type": "code",
   "execution_count": 15,
   "id": "8ceb4098",
   "metadata": {},
   "outputs": [],
   "source": [
    "restaurants_df = pd.DataFrame(columns=['City', 'State', 'Restaurant', 'Rating', 'Reviews'])"
   ]
  },
  {
   "cell_type": "code",
   "execution_count": 24,
   "id": "a2deaad4",
   "metadata": {},
   "outputs": [],
   "source": [
    "for key in restaurants_dict:\n",
    "    for restaurant in restaurants_dict[key]:\n",
    "        city = key.split(',')[0]\n",
    "        state = key.split(',')[1][1:]\n",
    "        name = restaurant[0]\n",
    "        rating = restaurant[1]\n",
    "        reviews = restaurant[2]\n",
    "        details = [city, state, name, rating, reviews]\n",
    "        restaurants_df.loc[len(restaurants_df)] = details"
   ]
  },
  {
   "cell_type": "code",
   "execution_count": 31,
   "id": "7ecd4f72",
   "metadata": {},
   "outputs": [],
   "source": [
    "restaurants_df.to_excel(\"restaurantsbycity.xlsx\",\n",
    "             sheet_name='Restaurants')  "
   ]
  },
  {
   "cell_type": "code",
   "execution_count": null,
   "id": "f5c74490",
   "metadata": {},
   "outputs": [],
   "source": []
  }
 ],
 "metadata": {
  "kernelspec": {
   "display_name": "Python 3 (ipykernel)",
   "language": "python",
   "name": "python3"
  },
  "language_info": {
   "codemirror_mode": {
    "name": "ipython",
    "version": 3
   },
   "file_extension": ".py",
   "mimetype": "text/x-python",
   "name": "python",
   "nbconvert_exporter": "python",
   "pygments_lexer": "ipython3",
   "version": "3.11.3"
  }
 },
 "nbformat": 4,
 "nbformat_minor": 5
}
